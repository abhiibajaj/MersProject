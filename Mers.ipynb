{
 "cells": [
  {
   "cell_type": "code",
   "execution_count": 21,
   "metadata": {},
   "outputs": [],
   "source": [
    "from Bio import SeqIO"
   ]
  },
  {
   "cell_type": "code",
   "execution_count": 120,
   "metadata": {},
   "outputs": [],
   "source": [
    "def splitDictPeptide(peptide, maxed):\n",
    "    length = len(peptide)\n",
    "    splits = []\n",
    "    splitRef = []\n",
    "    for i in range(0, length):\n",
    "        character = peptide[i]\n",
    "        \n",
    "        toAdd=\"\"\n",
    "        toAdd+=character\n",
    "        splits.append(toAdd)\n",
    "        ref = []\n",
    "        ref.append(i)\n",
    "        temp = list(ref)\n",
    "        splitRef.append(temp)\n",
    "        \n",
    "        for j in range(i+1, length):\n",
    "            toAdd+=peptide[j]\n",
    "            if(maxSize(toAdd, maxed)):\n",
    "                \n",
    "                splits.append(toAdd)\n",
    "                ref.append(j)\n",
    "                temp = list(ref)\n",
    "                \n",
    "                splitRef.append(temp)\n",
    "                temp=[]\n",
    "      \n",
    "      \n",
    "        ref = []\n",
    "        \n",
    "        \n",
    "    return splits, splitRef"
   ]
  },
  {
   "cell_type": "code",
   "execution_count": 141,
   "metadata": {},
   "outputs": [],
   "source": [
    "def combineOverlapPeptide(splits, splitRef, mined, maxed, overlapFlag):\n",
    "    combine = []\n",
    "    \n",
    "    \n",
    "    for i in range(0, len(splits)):\n",
    "        if(minSize(splits[i], mined)):\n",
    "            #Add linear peptide, can include option if necessary\n",
    "            combine.append(splits[i])\n",
    "        toAdd=\"\"\n",
    "        for j in range(i+1, len(splits)): \n",
    "            toAdd+=splits[i]\n",
    "            toAdd+=splits[j]\n",
    "            if(maxSize(toAdd, maxed) and minSize(toAdd, mined)):\n",
    "                if(overlapFlag==True):\n",
    "                    if(overlapComp(splitRef[i],splitRef[j])):\n",
    "                        combine.append(toAdd)\n",
    "                else:\n",
    "                    combine.append(toAdd)\n",
    "               \n",
    "            \n",
    "            toAdd = \"\"\n",
    "            toAdd+=splits[j]\n",
    "            toAdd+=splits[i]\n",
    "            if(maxSize(toAdd, maxed) and minSize(toAdd, mined)):\n",
    "                if(overlapFlag==True):\n",
    "                    if(overlapComp(splitRef[i],splitRef[j])):\n",
    "                        combine.append(toAdd)\n",
    "                else:\n",
    "                    combine.append(toAdd)\n",
    "               \n",
    "                \n",
    "                \n",
    "        \n",
    "            toAdd=\"\"\n",
    "    return combine"
   ]
  },
  {
   "cell_type": "code",
   "execution_count": 123,
   "metadata": {},
   "outputs": [],
   "source": [
    "def maxSize(split, maxed):\n",
    "    if(len(split)>=maxed):\n",
    "        return False\n",
    "    return True"
   ]
  },
  {
   "cell_type": "code",
   "execution_count": 124,
   "metadata": {},
   "outputs": [],
   "source": [
    "def minSize(split, mined):\n",
    "    if(len(split)<mined):\n",
    "        return False\n",
    "    return True"
   ]
  },
  {
   "cell_type": "code",
   "execution_count": 125,
   "metadata": {},
   "outputs": [],
   "source": [
    "def overlapComp(ref1,ref2):\n",
    "    S1 = set(ref1)\n",
    "    S2 = set(ref2)\n",
    "    if(len(S1.intersection(S2))==0):\n",
    "        return True\n",
    "    return False"
   ]
  },
  {
   "cell_type": "code",
   "execution_count": 126,
   "metadata": {},
   "outputs": [],
   "source": [
    "def addSequenceList(input_file):\n",
    "    \n",
    "    fasta_sequences = SeqIO.parse(open(input_file),'fasta')\n",
    "    sequenceDictionary = {}\n",
    "    for fasta in fasta_sequences:\n",
    "        name, sequence = fasta.id, fasta.seq.tostring()\n",
    "        sequenceDictionary[name] = sequence\n",
    "    return sequenceDictionary"
   ]
  },
  {
   "cell_type": "code",
   "execution_count": 148,
   "metadata": {},
   "outputs": [],
   "source": [
    "# Adapted from https://stackoverflow.com/questions/480214/how-do-you-remove-duplicates-from-a-list-whilst-preserving-order\n",
    "def removeDups(seq):\n",
    "    seen = set()\n",
    "    seen_add = seen.add\n",
    "    return [x for x in seq if not (x in seen or seen_add(x))]"
   ]
  },
  {
   "cell_type": "code",
   "execution_count": 161,
   "metadata": {},
   "outputs": [],
   "source": [
    "def combinePeptides(peptideList):\n",
    "    finalPeptide = ''.join(peptideList)\n",
    "    return finalPeptide\n"
   ]
  },
  {
   "cell_type": "code",
   "execution_count": 197,
   "metadata": {},
   "outputs": [],
   "source": [
    "def modTest(combine):\n",
    "    # A, B, C  convert to a, b, c\n",
    "    modComb = []\n",
    "    for string in combine:\n",
    "        if 'A' in string:\n",
    "            \n",
    "            numOccur = string.count('A')\n",
    "            print(numOccur)\n",
    "            for i in range(0, numOccur):\n",
    "                temp = string\n",
    "                temp = temp.replace(\"A\",\"a\", i+1)\n",
    "                print(temp)\n",
    "                modComb.append(temp)\n",
    "    print(modComb)"
   ]
  },
  {
   "cell_type": "code",
   "execution_count": 203,
   "metadata": {},
   "outputs": [
    {
     "name": "stdout",
     "output_type": "stream",
     "text": [
      "1\n",
      "a\n",
      "1\n",
      "aB\n",
      "1\n",
      "Ba\n",
      "2\n",
      "aBA\n",
      "aBa\n",
      "2\n",
      "BaA\n",
      "Baa\n",
      "3\n",
      "aBAA\n",
      "aBaA\n",
      "aBaa\n",
      "3\n",
      "BaAA\n",
      "BaaA\n",
      "Baaa\n",
      "4\n",
      "aBAAA\n",
      "aBaAA\n",
      "aBaaA\n",
      "aBaaa\n",
      "4\n",
      "BaAAA\n",
      "BaaAA\n",
      "BaaaA\n",
      "Baaaa\n",
      "3\n",
      "aAA\n",
      "aaA\n",
      "aaa\n",
      "4\n",
      "aAAA\n",
      "aaAA\n",
      "aaaA\n",
      "aaaa\n",
      "3\n",
      "aAAB\n",
      "aaAB\n",
      "aaaB\n",
      "4\n",
      "aAAAB\n",
      "aaAAB\n",
      "aaaAB\n",
      "aaaaB\n",
      "2\n",
      "aAB\n",
      "aaB\n",
      "2\n",
      "aA\n",
      "aa\n",
      "['a', 'aB', 'Ba', 'aBA', 'aBa', 'BaA', 'Baa', 'aBAA', 'aBaA', 'aBaa', 'BaAA', 'BaaA', 'Baaa', 'aBAAA', 'aBaAA', 'aBaaA', 'aBaaa', 'BaAAA', 'BaaAA', 'BaaaA', 'Baaaa', 'aAA', 'aaA', 'aaa', 'aAAA', 'aaAA', 'aaaA', 'aaaa', 'aAAB', 'aaAB', 'aaaB', 'aAAAB', 'aaAAB', 'aaaAB', 'aaaaB', 'aAB', 'aaB', 'aA', 'aa']\n"
     ]
    }
   ],
   "source": [
    "modTest(combine)\n"
   ]
  },
  {
   "cell_type": "code",
   "execution_count": 199,
   "metadata": {},
   "outputs": [
    {
     "name": "stdout",
     "output_type": "stream",
     "text": [
      "['A', 'AB', 'ABA', 'ABAA', 'ABAAA', 'B', 'BA', 'BAA', 'BAAA', 'A', 'AA', 'AAA', 'A', 'AA', 'A']\n",
      "['A', 'AB', 'ABA', 'ABAA', 'ABAAA', 'B', 'BA', 'BAA', 'BAAA', 'AA', 'AAA']\n"
     ]
    }
   ],
   "source": [
    "maxed = 12\n",
    "mined= 0\n",
    "overlap = True\n",
    "splits, splitRef = splitDictPeptide(\"ABAAA\", maxed)\n",
    "print(splits)\n",
    "splits = removeDups(splits)\n",
    "print(splits)\n",
    "\n",
    "\n"
   ]
  },
  {
   "cell_type": "code",
   "execution_count": 200,
   "metadata": {},
   "outputs": [
    {
     "name": "stdout",
     "output_type": "stream",
     "text": [
      "['A', 'AB', 'ABA', 'ABAA', 'ABAAA', 'B', 'BA', 'BAA', 'BAAA', 'AA', 'AAA']\n",
      "11\n"
     ]
    }
   ],
   "source": [
    "print(splits)\n",
    "print(len(splits))"
   ]
  },
  {
   "cell_type": "code",
   "execution_count": 201,
   "metadata": {},
   "outputs": [
    {
     "ename": "TypeError",
     "evalue": "'str' object does not support item assignment",
     "output_type": "error",
     "traceback": [
      "\u001b[1;31m---------------------------------------------------------------------------\u001b[0m",
      "\u001b[1;31mTypeError\u001b[0m                                 Traceback (most recent call last)",
      "\u001b[1;32m<ipython-input-201-f271f51a6882>\u001b[0m in \u001b[0;36m<module>\u001b[1;34m()\u001b[0m\n\u001b[0;32m      1\u001b[0m \u001b[0ms\u001b[0m \u001b[1;33m=\u001b[0m \u001b[1;34m\"oklkl\"\u001b[0m\u001b[1;33m\u001b[0m\u001b[0m\n\u001b[1;32m----> 2\u001b[1;33m \u001b[0ms\u001b[0m\u001b[1;33m[\u001b[0m\u001b[1;36m0\u001b[0m\u001b[1;33m]\u001b[0m\u001b[1;33m=\u001b[0m \u001b[1;34m'O'\u001b[0m\u001b[1;33m\u001b[0m\u001b[0m\n\u001b[0m",
      "\u001b[1;31mTypeError\u001b[0m: 'str' object does not support item assignment"
     ]
    }
   ],
   "source": [
    "s = \"oklkl\"\n",
    "s[0]= 'O'"
   ]
  },
  {
   "cell_type": "code",
   "execution_count": 202,
   "metadata": {},
   "outputs": [
    {
     "name": "stdout",
     "output_type": "stream",
     "text": [
      "['A', 'AB', 'BA', 'ABA', 'BAA', 'ABAA', 'BAAA', 'ABAAA', 'BAAAA', 'AAA', 'AAAA', 'AAAB', 'AAAAB', 'B', 'AAB', 'AA']\n",
      "16\n"
     ]
    }
   ],
   "source": [
    "combine = combineOverlapPeptide(splits, splitRef, mined, maxed, overlap)\n",
    "combine = removeDups(combine)\n",
    "print(combine)\n",
    "print(len(combine))"
   ]
  },
  {
   "cell_type": "code",
   "execution_count": 40,
   "metadata": {},
   "outputs": [
    {
     "name": "stderr",
     "output_type": "stream",
     "text": [
      "C:\\Users\\Arpit\\Anaconda3\\lib\\site-packages\\Bio\\Seq.py:354: BiopythonDeprecationWarning: This method is obsolete; please use str(my_seq) instead of my_seq.tostring().\n",
      "  BiopythonDeprecationWarning)\n"
     ]
    },
    {
     "name": "stdout",
     "output_type": "stream",
     "text": [
      "2662\n",
      "3916942\n"
     ]
    }
   ],
   "source": [
    "sequenceDictionary = addSequenceList(\"Example.fasta\")\n",
    "for key, value in sequenceDictionary.items():\n",
    "    \n",
    "    splits = splitPeptide(value, size)\n",
    "    combine = combinePeptide(splits, size)\n",
    "    print(len(splits))\n",
    "    print(len(combine))\n",
    "    \n",
    "    break;"
   ]
  },
  {
   "cell_type": "code",
   "execution_count": null,
   "metadata": {},
   "outputs": [],
   "source": []
  }
 ],
 "metadata": {
  "kernelspec": {
   "display_name": "Python 3",
   "language": "python",
   "name": "python3"
  },
  "language_info": {
   "codemirror_mode": {
    "name": "ipython",
    "version": 3
   },
   "file_extension": ".py",
   "mimetype": "text/x-python",
   "name": "python",
   "nbconvert_exporter": "python",
   "pygments_lexer": "ipython3",
   "version": "3.6.4"
  }
 },
 "nbformat": 4,
 "nbformat_minor": 2
}
