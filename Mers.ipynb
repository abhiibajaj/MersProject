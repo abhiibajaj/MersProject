{
 "cells": [
  {
   "cell_type": "code",
   "execution_count": 3,
   "metadata": {},
   "outputs": [],
   "source": [
    "#Import biopython module to open FASTA files\n",
    "from Bio import SeqIO"
   ]
  },
  {
   "cell_type": "code",
   "execution_count": 2,
   "metadata": {},
   "outputs": [],
   "source": [
    "H20_MASS = 18.010565\n"
   ]
  },
  {
   "cell_type": "code",
   "execution_count": 5,
   "metadata": {},
   "outputs": [],
   "source": [
    "# Monoisotopic mass\n",
    "monoAminoMass =  {\n",
    "                        'A': 71.03711,\n",
    "                        'R': 156.10111,\n",
    "                        'N': 114.0493,\n",
    "                        'D': 115.02694,\n",
    "                        'C': 103.00919,\n",
    "                        'E': 129.04259,\n",
    "                        'Q': 128.05858,\n",
    "                        'G': 57.02146,\n",
    "                        'H': 137.05891,\n",
    "                        'I': 113.08406,\n",
    "                        'L': 113.08406,\n",
    "                        'K': 128.09496,\n",
    "                        'M': 131.04049,\n",
    "                        'F': 147.06841,\n",
    "                        'P': 97.05276,\n",
    "                        'S': 87.03203,\n",
    "                        'T': 101.04768,\n",
    "                        'W': 186.07931,\n",
    "                        'Y': 163.06333,\n",
    "                        'V': 99.06841,\n",
    "                        \n",
    "                        \n",
    "                    }"
   ]
  },
  {
   "cell_type": "code",
   "execution_count": 6,
   "metadata": {},
   "outputs": [],
   "source": [
    "\"\"\"Inputs: peptide string, max length of split peptide. \n",
    "   Outputs: all possible splits that could be formed that are smaller in length than the maxed input \"\"\"\n",
    "def splitDictPeptide(peptide, maxed):\n",
    "    length = len(peptide)\n",
    "    # splits will hold all possible splits that can occur\n",
    "    splits = []\n",
    "    # splitRef will hold a direct reference to the characters making up each split string: for starting peptide ABC,\n",
    "    # the split AC = [0,2] \n",
    "    splitRef = []\n",
    "    \n",
    "    # imbedded for loops build all possible splits\n",
    "    for i in range(0, length):\n",
    "        character = peptide[i]\n",
    "        toAdd=\"\"\n",
    "        # add and append first character and add and append reference number which indexes this character\n",
    "        toAdd+=character\n",
    "        splits.append(toAdd)\n",
    "        ref = []\n",
    "        ref.append(i)\n",
    "        temp = list(ref)  # use list because otherwise shared memory overwrites\n",
    "        splitRef.append(temp)\n",
    "        \n",
    "        # iterates through every character after current and adds it to the most recent string if max size\n",
    "        # requirement is satisfied\n",
    "        for j in range(i+1, length):\n",
    "            toAdd+=peptide[j]\n",
    "            if(maxSize(toAdd, maxed)):\n",
    "                \n",
    "                splits.append(toAdd)\n",
    "                ref.append(j)\n",
    "                temp = list(ref)\n",
    "                \n",
    "                splitRef.append(temp)\n",
    "                temp=[]\n",
    "      \n",
    "      \n",
    "        ref = []\n",
    "        \n",
    "        \n",
    "    return splits, splitRef"
   ]
  },
  {
   "cell_type": "code",
   "execution_count": 7,
   "metadata": {},
   "outputs": [],
   "source": [
    "\"\"\"Input: splits: list of splits, splitRef: list of the character indexes for splits, mined/maxed: min and max\n",
    "   size requirements, overlapFlag: boolean value true if overlapping combinations are undesired.\n",
    "   Output: all combinations of possible splits which meets criteria\"\"\"\n",
    "def combineOverlapPeptide(splits, splitRef, mined, maxed, overlapFlag):\n",
    "    \n",
    "    # initialise combinations array to hold the possible combinations from the input splits\n",
    "    combine = []\n",
    "   \n",
    "    # iterate through all of the splits and build up combinations which meet min/max/overlap criteria\n",
    "    for i in range(0, len(splits)):\n",
    "        if(minSize(splits[i], mined)):\n",
    "            #Add linear peptide, can include option if necessary\n",
    "            combine.append(splits[i])\n",
    "        \n",
    "        # toAdd holds temporary for insertion in final matrix if it meets criteria\n",
    "        toAdd=\"\"\n",
    "        \n",
    "        for j in range(i+1, len(splits)): \n",
    "            # create forward combinaiton of i and j\n",
    "            toAdd+=splits[i]\n",
    "            toAdd+=splits[j]\n",
    "    \n",
    "        # look to combine all checks together in a future for clarity\n",
    "            if(maxSize(toAdd, maxed) and minSize(toAdd, mined)):\n",
    "            \n",
    "                if(overlapFlag==True):\n",
    "                    if(overlapComp(splitRef[i],splitRef[j])):\n",
    "                        combine.append(toAdd)\n",
    "                else:\n",
    "                    combine.append(toAdd)\n",
    "               \n",
    "            #create backwards combination of i and j\n",
    "            toAdd = \"\"\n",
    "            toAdd+=splits[j]\n",
    "            toAdd+=splits[i]\n",
    "            \n",
    "            if(maxSize(toAdd, maxed) and minSize(toAdd, mined)):\n",
    "                if(overlapFlag==True):\n",
    "                    if(overlapComp(splitRef[i],splitRef[j])):\n",
    "                        combine.append(toAdd)\n",
    "                else:\n",
    "                    combine.append(toAdd)\n",
    "               \n",
    "                \n",
    "                \n",
    "        \n",
    "            toAdd=\"\"\n",
    "    return combine"
   ]
  },
  {
   "cell_type": "code",
   "execution_count": 8,
   "metadata": {},
   "outputs": [],
   "source": [
    "# ensures length of split is smaller than or equal to max\n",
    "def maxSize(split, maxed):\n",
    "    if(len(split)>=maxed):\n",
    "        return False\n",
    "    return True"
   ]
  },
  {
   "cell_type": "code",
   "execution_count": 9,
   "metadata": {},
   "outputs": [],
   "source": [
    "# ensures length of split is greater than min\n",
    "def minSize(split, mined):\n",
    "    if(len(split)<mined):\n",
    "        return False\n",
    "    return True"
   ]
  },
  {
   "cell_type": "code",
   "execution_count": 10,
   "metadata": {},
   "outputs": [],
   "source": [
    "# checks if there is an intersection between two strings. Likely input it the splitRef data. \n",
    "# Outputs True if no intersection\n",
    "def overlapComp(ref1,ref2):\n",
    "    S1 = set(ref1)\n",
    "    S2 = set(ref2)\n",
    "    if(len(S1.intersection(S2))==0):\n",
    "        return True\n",
    "    return False"
   ]
  },
  {
   "cell_type": "code",
   "execution_count": 11,
   "metadata": {},
   "outputs": [],
   "source": [
    "# opens FASTA file\n",
    "def addSequenceList(input_file):\n",
    "    \n",
    "    fasta_sequences = SeqIO.parse(open(input_file),'fasta')\n",
    "    sequenceDictionary = {}\n",
    "    for fasta in fasta_sequences:\n",
    "        name, sequence = fasta.id, fasta.seq.tostring()\n",
    "        sequenceDictionary[name] = sequence\n",
    "    return sequenceDictionary"
   ]
  },
  {
   "cell_type": "code",
   "execution_count": 12,
   "metadata": {},
   "outputs": [],
   "source": [
    "# Adapted from https://stackoverflow.com/questions/480214/how-do-you-remove-duplicates-from-a-list-whilst-preserving-order\n",
    "# removes duplicates given a list\n",
    "def removeDups(seq):\n",
    "    seen = set()\n",
    "    seen_add = seen.add\n",
    "    initial = [x for x in seq if not (x in seen or seen_add(x))]\n",
    "    temp = []\n",
    "    # Remove permutations\n",
    "    for i in range(0, len(initial)):\n",
    "        for j in range(i+1, len(initial)):\n",
    "            if(combRemove(initial[i], initial[j])):\n",
    "                temp.append(initial[j])\n",
    "        \n",
    "    final = [x for x in initial if x not in temp]\n",
    "    return final\n"
   ]
  },
  {
   "cell_type": "code",
   "execution_count": 13,
   "metadata": {},
   "outputs": [],
   "source": [
    "\"\"\"\n",
    "Returns true if two strings are a permutation of each other -> Called in removeDups\n",
    "\"\"\"\n",
    "def combRemove(ref1, ref2):\n",
    "    return (len(ref1) == len(ref2) and sorted(ref1) == sorted(ref2))"
   ]
  },
  {
   "cell_type": "code",
   "execution_count": 14,
   "metadata": {},
   "outputs": [],
   "source": [
    "# combines an array of strings into one string. Used for ultimately segments from multiple peptides\n",
    "def combinePeptides(peptideList):\n",
    "    finalPeptide = ''.join(peptideList)\n",
    "    return finalPeptide\n"
   ]
  },
  {
   "cell_type": "code",
   "execution_count": 15,
   "metadata": {},
   "outputs": [],
   "source": [
    "# generates most of the permutations possible when switching from A to a in all strings originally containing an A\n",
    "# input is a list of all combinations\n",
    "def modTest(combine):\n",
    "    # A, B, C  convert to a, b, c\n",
    "    modComb = []\n",
    "    for string in combine:\n",
    "        if 'A' in string:\n",
    "            \n",
    "            numOccur = string.count('A')\n",
    "            \n",
    "            for i in range(0, numOccur):\n",
    "                temp = string\n",
    "                temp = temp.replace(\"A\",\"a\", i+1)\n",
    "               \n",
    "                modComb.append(temp)\n",
    "    return modComb"
   ]
  },
  {
   "cell_type": "code",
   "execution_count": 16,
   "metadata": {},
   "outputs": [],
   "source": [
    "def combMass(combine):\n",
    "    massDict = {}\n",
    "    for combination in combine:\n",
    "        totalMass = 0\n",
    "        for character in combination:\n",
    "            totalMass += monoAminoMass[character]\n",
    "        totalMass+=H20_MASS\n",
    "        massDict[combination] = totalMass   \n",
    "    return massDict"
   ]
  },
  {
   "cell_type": "code",
   "execution_count": 17,
   "metadata": {},
   "outputs": [],
   "source": [
    "maxed = 12\n",
    "mined= 0\n",
    "overlap = True\n",
    "splits, splitRef = splitDictPeptide(\"ARDCE\", maxed)\n",
    "\n",
    "splits = removeDups(splits)\n",
    "\n",
    "\n",
    "\n"
   ]
  },
  {
   "cell_type": "code",
   "execution_count": 19,
   "metadata": {},
   "outputs": [
    {
     "name": "stdout",
     "output_type": "stream",
     "text": [
      "{'AR': 245.14878499999998}\n"
     ]
    }
   ],
   "source": [
    "combine1 = ['AR']\n",
    "print(combMass(combine1))"
   ]
  },
  {
   "cell_type": "code",
   "execution_count": 252,
   "metadata": {},
   "outputs": [
    {
     "name": "stdout",
     "output_type": "stream",
     "text": [
      "['A', 'AR', 'ARD', 'ARDC', 'ARDCE', 'R', 'RD', 'RDC', 'RDCE', 'D', 'DC', 'DCE', 'C', 'CE', 'E']\n",
      "15\n"
     ]
    }
   ],
   "source": [
    "print(splits)\n",
    "print(len(splits))"
   ]
  },
  {
   "cell_type": "code",
   "execution_count": 253,
   "metadata": {},
   "outputs": [
    {
     "name": "stdout",
     "output_type": "stream",
     "text": [
      "['A', 'AR', 'ARD', 'ARDC', 'ARDCE', 'AD', 'ADC', 'ADCE', 'AC', 'ACE', 'AE', 'ARC', 'ARCE', 'ARE', 'ARDE', 'R', 'RD', 'RDC', 'RDCE', 'RC', 'RCE', 'RE', 'RDE', 'D', 'DC', 'DCE', 'DE', 'C', 'CE', 'E']\n",
      "30\n",
      "{'A': 71.03711, 'AR': 227.13822, 'ARD': 342.16516, 'ARDC': 445.17435, 'ARDCE': 574.21694, 'AD': 186.06405, 'ADC': 289.07324, 'ADCE': 418.11582999999996, 'AC': 174.0463, 'ACE': 303.08889, 'AE': 200.0797, 'ARC': 330.14741, 'ARCE': 459.18999999999994, 'ARE': 356.18080999999995, 'ARDE': 471.20775000000003, 'R': 156.10111, 'RD': 271.12805000000003, 'RDC': 374.13724, 'RDCE': 503.17983000000004, 'RC': 259.1103, 'RCE': 388.15288999999996, 'RE': 285.14369999999997, 'RDE': 400.17064000000005, 'D': 115.02694, 'DC': 218.03613, 'DCE': 347.07872, 'DE': 244.06953, 'C': 103.00919, 'CE': 232.05178, 'E': 129.04259}\n"
     ]
    }
   ],
   "source": [
    "combine = combineOverlapPeptide(splits, splitRef, mined, maxed, overlap)\n",
    "combine = removeDups(combine)\n",
    "\n",
    "print(combine)\n",
    "print(len(combine))\n",
    "\n",
    "massDict = combMass(combine)\n",
    "print(massDict)"
   ]
  },
  {
   "cell_type": "code",
   "execution_count": 215,
   "metadata": {},
   "outputs": [
    {
     "name": "stdout",
     "output_type": "stream",
     "text": [
      "Combine original\n",
      "['A', 'AB', 'BA', 'ABA', 'BAA', 'ABAA', 'BAAA', 'ABAAA', 'BAAAA', 'AAA', 'AAAA', 'AAAB', 'AAAAB', 'B', 'AAB', 'AA']\n",
      "Modcomb\n",
      "['a', 'aB', 'Ba', 'aBA', 'aBa', 'BaA', 'Baa', 'aBAA', 'aBaA', 'aBaa', 'BaAA', 'BaaA', 'Baaa', 'aBAAA', 'aBaAA', 'aBaaA', 'aBaaa', 'BaAAA', 'BaaAA', 'BaaaA', 'Baaaa', 'aAA', 'aaA', 'aaa', 'aAAA', 'aaAA', 'aaaA', 'aaaa', 'aAAB', 'aaAB', 'aaaB', 'aAAAB', 'aaAAB', 'aaaAB', 'aaaaB', 'aAB', 'aaB', 'aA', 'aa']\n"
     ]
    }
   ],
   "source": [
    "modcomb = modTest(combine)\n",
    "\n",
    "print(\"Combine original\")\n",
    "print(combine)\n",
    "\n",
    "#print(\"Modcomb\")\n",
    "#print(modcomb)\n",
    "\n"
   ]
  },
  {
   "cell_type": "code",
   "execution_count": 1,
   "metadata": {},
   "outputs": [
    {
     "ename": "NameError",
     "evalue": "name 'addSequenceList' is not defined",
     "output_type": "error",
     "traceback": [
      "\u001b[1;31m---------------------------------------------------------------------------\u001b[0m",
      "\u001b[1;31mNameError\u001b[0m                                 Traceback (most recent call last)",
      "\u001b[1;32m<ipython-input-1-f05dfa62026a>\u001b[0m in \u001b[0;36m<module>\u001b[1;34m()\u001b[0m\n\u001b[0;32m      1\u001b[0m \u001b[1;31m# taking FASTA dictionary and passing through our splits and combine functions\u001b[0m\u001b[1;33m\u001b[0m\u001b[1;33m\u001b[0m\u001b[0m\n\u001b[1;32m----> 2\u001b[1;33m \u001b[0msequenceDictionary\u001b[0m \u001b[1;33m=\u001b[0m \u001b[0maddSequenceList\u001b[0m\u001b[1;33m(\u001b[0m\u001b[1;34m\"Example.fasta\"\u001b[0m\u001b[1;33m)\u001b[0m\u001b[1;33m\u001b[0m\u001b[0m\n\u001b[0m\u001b[0;32m      3\u001b[0m \u001b[1;32mfor\u001b[0m \u001b[0mkey\u001b[0m\u001b[1;33m,\u001b[0m \u001b[0mvalue\u001b[0m \u001b[1;32min\u001b[0m \u001b[0msequenceDictionary\u001b[0m\u001b[1;33m.\u001b[0m\u001b[0mitems\u001b[0m\u001b[1;33m(\u001b[0m\u001b[1;33m)\u001b[0m\u001b[1;33m:\u001b[0m\u001b[1;33m\u001b[0m\u001b[0m\n\u001b[0;32m      4\u001b[0m \u001b[1;33m\u001b[0m\u001b[0m\n\u001b[0;32m      5\u001b[0m     \u001b[0msplits\u001b[0m\u001b[1;33m,\u001b[0m \u001b[0msplitRef\u001b[0m \u001b[1;33m=\u001b[0m \u001b[0msplitDictPeptide\u001b[0m\u001b[1;33m(\u001b[0m\u001b[0mvalue\u001b[0m\u001b[1;33m,\u001b[0m \u001b[0mmaxed\u001b[0m\u001b[1;33m)\u001b[0m\u001b[1;33m\u001b[0m\u001b[0m\n",
      "\u001b[1;31mNameError\u001b[0m: name 'addSequenceList' is not defined"
     ]
    }
   ],
   "source": [
    "# taking FASTA dictionary and passing through our splits and combine functions\n",
    "sequenceDictionary = addSequenceList(\"Example.fasta\")\n",
    "for key, value in sequenceDictionary.items():\n",
    "    \n",
    "    splits, splitRef = splitDictPeptide(value, maxed)\n",
    "    \n",
    "    splits = removeDups(splits)\n",
    "    combine = combineOverlapPeptide(splits, splitRef, mined, maxed,  overlap)\n",
    "    combine = removeDups(combine)\n",
    "    \n",
    "    print(len(splits))\n",
    "    print(len(combine))\n",
    "    \n",
    "    break;"
   ]
  },
  {
   "cell_type": "markdown",
   "metadata": {},
   "source": [
    "Analysis of removing duplicates at split level and combined level:\n",
    "    - Split level: 3.1 mil to 1.8 mil\n",
    "    - Combined level: 1.8 mil to 1.6 mil\n",
    "    "
   ]
  },
  {
   "cell_type": "code",
   "execution_count": null,
   "metadata": {},
   "outputs": [],
   "source": []
  }
 ],
 "metadata": {
  "kernelspec": {
   "display_name": "Python 3",
   "language": "python",
   "name": "python3"
  },
  "language_info": {
   "codemirror_mode": {
    "name": "ipython",
    "version": 3
   },
   "file_extension": ".py",
   "mimetype": "text/x-python",
   "name": "python",
   "nbconvert_exporter": "python",
   "pygments_lexer": "ipython3",
   "version": "3.6.4"
  }
 },
 "nbformat": 4,
 "nbformat_minor": 2
}
