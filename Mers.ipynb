{
 "cells": [
  {
   "cell_type": "code",
   "execution_count": 3,
   "metadata": {},
   "outputs": [],
   "source": [
    "#Import biopython module to open FASTA files\n",
    "from Bio import SeqIO"
   ]
  },
  {
   "cell_type": "code",
   "execution_count": 4,
   "metadata": {},
   "outputs": [],
   "source": [
    "\"\"\"Inputs: peptide string, max length of split peptide. \n",
    "   Outputs: all possible splits that could be formed that are smaller in length than the maxed input \"\"\"\n",
    "def splitDictPeptide(peptide, maxed):\n",
    "    length = len(peptide)\n",
    "    # splits will hold all possible splits that can occur\n",
    "    splits = []\n",
    "    # splitRef will hold a direct reference to the characters making up each split string: for starting peptide ABC,\n",
    "    # the split AC = [0,2] \n",
    "    splitRef = []\n",
    "    \n",
    "    # imbedded for loops build all possible splits\n",
    "    for i in range(0, length):\n",
    "        character = peptide[i]\n",
    "        toAdd=\"\"\n",
    "        # add and append first character and add and append reference number which indexes this character\n",
    "        toAdd+=character\n",
    "        splits.append(toAdd)\n",
    "        ref = []\n",
    "        ref.append(i)\n",
    "        temp = list(ref)  # use list because otherwise shared memory overwrites\n",
    "        splitRef.append(temp)\n",
    "        \n",
    "        # iterates through every character after current and adds it to the most recent string if max size\n",
    "        # requirement is satisfied\n",
    "        for j in range(i+1, length):\n",
    "            toAdd+=peptide[j]\n",
    "            if(maxSize(toAdd, maxed)):\n",
    "                \n",
    "                splits.append(toAdd)\n",
    "                ref.append(j)\n",
    "                temp = list(ref)\n",
    "                \n",
    "                splitRef.append(temp)\n",
    "                temp=[]\n",
    "      \n",
    "      \n",
    "        ref = []\n",
    "        \n",
    "        \n",
    "    return splits, splitRef"
   ]
  },
  {
   "cell_type": "code",
   "execution_count": 5,
   "metadata": {},
   "outputs": [],
   "source": [
    "\"\"\"Input: splits: list of splits, splitRef: list of the character indexes for splits, mined/maxed: min and max\n",
    "   size requirements, overlapFlag: boolean value true if overlapping combinations are undesired.\n",
    "   Output: all combinations of possible splits which meets criteria\"\"\"\n",
    "def combineOverlapPeptide(splits, splitRef, mined, maxed, overlapFlag):\n",
    "    \n",
    "    # initialise combinations array to hold the possible combinations from the input splits\n",
    "    combine = []\n",
    "   \n",
    "    # iterate through all of the splits and build up combinations which meet min/max/overlap criteria\n",
    "    for i in range(0, len(splits)):\n",
    "        if(minSize(splits[i], mined)):\n",
    "            #Add linear peptide, can include option if necessary\n",
    "            combine.append(splits[i])\n",
    "        \n",
    "        # toAdd holds temporary for insertion in final matrix if it meets criteria\n",
    "        toAdd=\"\"\n",
    "        \n",
    "        for j in range(i+1, len(splits)): \n",
    "            # create forward combinaiton of i and j\n",
    "            toAdd+=splits[i]\n",
    "            toAdd+=splits[j]\n",
    "    \n",
    "    # look to combine all checks together in a future for clarity\n",
    "            if(maxSize(toAdd, maxed) and minSize(toAdd, mined)):\n",
    "            \n",
    "                if(overlapFlag==True):\n",
    "                    if(overlapComp(splitRef[i],splitRef[j])):\n",
    "                        combine.append(toAdd)\n",
    "                else:\n",
    "                    combine.append(toAdd)\n",
    "               \n",
    "            #create backwards combination of i and j\n",
    "            toAdd = \"\"\n",
    "            toAdd+=splits[j]\n",
    "            toAdd+=splits[i]\n",
    "            \n",
    "            if(maxSize(toAdd, maxed) and minSize(toAdd, mined)):\n",
    "                if(overlapFlag==True):\n",
    "                    if(overlapComp(splitRef[i],splitRef[j])):\n",
    "                        combine.append(toAdd)\n",
    "                else:\n",
    "                    combine.append(toAdd)\n",
    "               \n",
    "                \n",
    "                \n",
    "        \n",
    "            toAdd=\"\"\n",
    "    return combine"
   ]
  },
  {
   "cell_type": "code",
   "execution_count": 6,
   "metadata": {},
   "outputs": [],
   "source": [
    "# ensures length of split is smaller than or equal to max\n",
    "def maxSize(split, maxed):\n",
    "    if(len(split)>=maxed):\n",
    "        return False\n",
    "    return True"
   ]
  },
  {
   "cell_type": "code",
   "execution_count": 7,
   "metadata": {},
   "outputs": [],
   "source": [
    "# ensures length of split is greater than min\n",
    "def minSize(split, mined):\n",
    "    if(len(split)<mined):\n",
    "        return False\n",
    "    return True"
   ]
  },
  {
   "cell_type": "code",
   "execution_count": 8,
   "metadata": {},
   "outputs": [],
   "source": [
    "# checks if there is an intersection between two strings. Likely input it the splitRef data. \n",
    "# Outputs True if no intersection\n",
    "def overlapComp(ref1,ref2):\n",
    "    S1 = set(ref1)\n",
    "    S2 = set(ref2)\n",
    "    if(len(S1.intersection(S2))==0):\n",
    "        return True\n",
    "    return False"
   ]
  },
  {
   "cell_type": "code",
   "execution_count": 9,
   "metadata": {},
   "outputs": [],
   "source": [
    "# opens FASTA file\n",
    "def addSequenceList(input_file):\n",
    "    \n",
    "    fasta_sequences = SeqIO.parse(open(input_file),'fasta')\n",
    "    sequenceDictionary = {}\n",
    "    for fasta in fasta_sequences:\n",
    "        name, sequence = fasta.id, fasta.seq.tostring()\n",
    "        sequenceDictionary[name] = sequence\n",
    "    return sequenceDictionary"
   ]
  },
  {
   "cell_type": "code",
   "execution_count": 10,
   "metadata": {},
   "outputs": [],
   "source": [
    "# Adapted from https://stackoverflow.com/questions/480214/how-do-you-remove-duplicates-from-a-list-whilst-preserving-order\n",
    "# removes duplicates given a list\n",
    "def removeDups(seq):\n",
    "    seen = set()\n",
    "    seen_add = seen.add\n",
    "    return [x for x in seq if not (x in seen or seen_add(x))]"
   ]
  },
  {
   "cell_type": "code",
   "execution_count": 11,
   "metadata": {},
   "outputs": [],
   "source": [
    "# combines an array of strings into one string. Used for ultimately segments from multiple peptides\n",
    "def combinePeptides(peptideList):\n",
    "    finalPeptide = ''.join(peptideList)\n",
    "    return finalPeptide\n"
   ]
  },
  {
   "cell_type": "code",
   "execution_count": 12,
   "metadata": {},
   "outputs": [],
   "source": [
    "# generates most of the permutations possible when switching from A to a in all strings originally containing an A\n",
    "# input is a list of all combinations\n",
    "def modTest(combine):\n",
    "    # A, B, C  convert to a, b, c\n",
    "    modComb = []\n",
    "    for string in combine:\n",
    "        if 'A' in string:\n",
    "            \n",
    "            numOccur = string.count('A')\n",
    "            print(numOccur)\n",
    "            for i in range(0, numOccur):\n",
    "                temp = string\n",
    "                temp = temp.replace(\"A\",\"a\", i+1)\n",
    "                print(temp)\n",
    "                modComb.append(temp)\n",
    "    print(modComb)"
   ]
  },
  {
   "cell_type": "code",
   "execution_count": null,
   "metadata": {},
   "outputs": [],
   "source": [
    "\n"
   ]
  },
  {
   "cell_type": "code",
   "execution_count": 13,
   "metadata": {},
   "outputs": [
    {
     "name": "stdout",
     "output_type": "stream",
     "text": [
      "['A', 'AB', 'ABA', 'ABAA', 'ABAAA', 'B', 'BA', 'BAA', 'BAAA', 'A', 'AA', 'AAA', 'A', 'AA', 'A']\n",
      "['A', 'AB', 'ABA', 'ABAA', 'ABAAA', 'B', 'BA', 'BAA', 'BAAA', 'AA', 'AAA']\n"
     ]
    }
   ],
   "source": [
    "maxed = 12\n",
    "mined= 0\n",
    "overlap = True\n",
    "splits, splitRef = splitDictPeptide(\"ABAAA\", maxed)\n",
    "print(splits)\n",
    "splits = removeDups(splits)\n",
    "print(splits)\n",
    "\n",
    "\n"
   ]
  },
  {
   "cell_type": "code",
   "execution_count": 14,
   "metadata": {},
   "outputs": [
    {
     "name": "stdout",
     "output_type": "stream",
     "text": [
      "['A', 'AB', 'ABA', 'ABAA', 'ABAAA', 'B', 'BA', 'BAA', 'BAAA', 'AA', 'AAA']\n",
      "11\n"
     ]
    }
   ],
   "source": [
    "print(splits)\n",
    "print(len(splits))"
   ]
  },
  {
   "cell_type": "code",
   "execution_count": 15,
   "metadata": {},
   "outputs": [
    {
     "name": "stdout",
     "output_type": "stream",
     "text": [
      "['A', 'AB', 'BA', 'ABA', 'BAA', 'ABAA', 'BAAA', 'ABAAA', 'BAAAA', 'AAA', 'AAAA', 'AAAB', 'AAAAB', 'B', 'AAB', 'AA']\n",
      "16\n"
     ]
    }
   ],
   "source": [
    "combine = combineOverlapPeptide(splits, splitRef, mined, maxed, overlap)\n",
    "combine = removeDups(combine)\n",
    "print(combine)\n",
    "print(len(combine))"
   ]
  },
  {
   "cell_type": "code",
   "execution_count": 21,
   "metadata": {},
   "outputs": [
    {
     "name": "stderr",
     "output_type": "stream",
     "text": [
      "/anaconda3/lib/python3.6/site-packages/Bio/Seq.py:354: BiopythonDeprecationWarning: This method is obsolete; please use str(my_seq) instead of my_seq.tostring().\n",
      "  BiopythonDeprecationWarning)\n"
     ]
    },
    {
     "name": "stdout",
     "output_type": "stream",
     "text": [
      "2343\n",
      "1648018\n"
     ]
    }
   ],
   "source": [
    "# taking FASTA dictionary and passing through our splits and combine functions\n",
    "sequenceDictionary = addSequenceList(\"Example.fasta\")\n",
    "for key, value in sequenceDictionary.items():\n",
    "    \n",
    "    splits, splitRef = splitDictPeptide(value, maxed)\n",
    "    \n",
    "    splits = removeDups(splits)\n",
    "    combine = combineOverlapPeptide(splits, splitRef, mined, maxed,  overlap)\n",
    "    combine = removeDups(combine)\n",
    "    \n",
    "    print(len(splits))\n",
    "    print(len(combine))\n",
    "    \n",
    "    break;"
   ]
  },
  {
   "cell_type": "markdown",
   "metadata": {},
   "source": [
    "Analysis of removing duplicates at split level and combined level:\n",
    "    - Spit level: 3.1 mil to 1.8 mil\n",
    "    - Combined level: 1.8 mil to 1.6 mil\n",
    "    "
   ]
  },
  {
   "cell_type": "code",
   "execution_count": null,
   "metadata": {},
   "outputs": [],
   "source": []
  }
 ],
 "metadata": {
  "kernelspec": {
   "display_name": "Python 3",
   "language": "python",
   "name": "python3"
  },
  "language_info": {
   "codemirror_mode": {
    "name": "ipython",
    "version": 3
   },
   "file_extension": ".py",
   "mimetype": "text/x-python",
   "name": "python",
   "nbconvert_exporter": "python",
   "pygments_lexer": "ipython3",
   "version": "3.6.5"
  }
 },
 "nbformat": 4,
 "nbformat_minor": 2
}
