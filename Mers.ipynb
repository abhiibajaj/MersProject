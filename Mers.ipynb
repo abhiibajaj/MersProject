{
 "cells": [
  {
   "cell_type": "code",
   "execution_count": 49,
   "metadata": {},
   "outputs": [],
   "source": [
    "def splitPeptide(peptide):\n",
    "    length = len(peptide)\n",
    "    splits = []\n",
    "    \n",
    "    for i in range(0, length):\n",
    "        character = peptide[i]\n",
    "        toAdd=\"\"\n",
    "        toAdd+=character\n",
    "        splits.append(toAdd)\n",
    "        for j in range(i+1, length):\n",
    "            toAdd+=peptide[j]\n",
    "            if(splitSize(toAdd, 11)):\n",
    "                splits.append(toAdd)\n",
    "    return splits\n",
    "            \n",
    "            \n",
    "    "
   ]
  },
  {
   "cell_type": "code",
   "execution_count": 50,
   "metadata": {},
   "outputs": [],
   "source": [
    "def combinePeptide(splits):\n",
    "    combine = []\n",
    "    for i in range(0, len(splits)):\n",
    "        toAdd=\"\"\n",
    "        for j in range(i+1, len(splits)):\n",
    "            toAdd+=splits[i]\n",
    "            toAdd+=splits[j]\n",
    "            if(splitSize(toAdd, 12)):\n",
    "                \n",
    "                combine.append(toAdd)\n",
    "            \n",
    "            toAdd = \"\"\n",
    "            toAdd+=splits[j]\n",
    "            toAdd+=splits[i]\n",
    "            if(splitSize(toAdd, 12)):\n",
    "                \n",
    "                combine.append(toAdd)\n",
    "        \n",
    "            toAdd=\"\"\n",
    "    return combine\n",
    "     \n",
    "    "
   ]
  },
  {
   "cell_type": "code",
   "execution_count": 51,
   "metadata": {},
   "outputs": [],
   "source": [
    "def splitSize(split, size):\n",
    "    if(len(split)>size):\n",
    "        return False\n",
    "    return True"
   ]
  },
  {
   "cell_type": "code",
   "execution_count": 81,
   "metadata": {},
   "outputs": [],
   "source": [
    "#splits = splitPeptide(\"AKLjf111111jhjhjhjhjhjhjhjh1112hjhfjfjhfjhkkkkkkkkkkrjhjhjhytytytujjjjjju\")\n",
    "six  = \"\"\n",
    "for i in range(0, 600):\n",
    "    six+=\"1\"\n",
    "splits = splitPeptide(six)"
   ]
  },
  {
   "cell_type": "code",
   "execution_count": 82,
   "metadata": {},
   "outputs": [
    {
     "name": "stdout",
     "output_type": "stream",
     "text": [
      "6545\n"
     ]
    }
   ],
   "source": [
    "\n",
    "print(len(splits))"
   ]
  },
  {
   "cell_type": "code",
   "execution_count": 83,
   "metadata": {},
   "outputs": [
    {
     "name": "stdout",
     "output_type": "stream",
     "text": [
      "23492910\n"
     ]
    }
   ],
   "source": [
    "combine = combinePeptide(splits)\n",
    "\n",
    "print(len(combine))"
   ]
  },
  {
   "cell_type": "code",
   "execution_count": null,
   "metadata": {},
   "outputs": [],
   "source": []
  }
 ],
 "metadata": {
  "kernelspec": {
   "display_name": "Python 3",
   "language": "python",
   "name": "python3"
  },
  "language_info": {
   "codemirror_mode": {
    "name": "ipython",
    "version": 3
   },
   "file_extension": ".py",
   "mimetype": "text/x-python",
   "name": "python",
   "nbconvert_exporter": "python",
   "pygments_lexer": "ipython3",
   "version": "3.6.4"
  }
 },
 "nbformat": 4,
 "nbformat_minor": 2
}
