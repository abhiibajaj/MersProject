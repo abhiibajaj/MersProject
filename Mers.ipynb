{
 "cells": [
  {
   "cell_type": "code",
   "execution_count": 21,
   "metadata": {},
   "outputs": [],
   "source": [
    "from Bio import SeqIO"
   ]
  },
  {
   "cell_type": "code",
   "execution_count": 41,
   "metadata": {},
   "outputs": [],
   "source": [
    "def splitPeptide(peptide, maxed):\n",
    "    length = len(peptide)\n",
    "    splits = []\n",
    "    \n",
    "    for i in range(0, length):\n",
    "        character = peptide[i]\n",
    "        \n",
    "        toAdd=\"\"\n",
    "        toAdd+=character\n",
    "        splits.append(toAdd)\n",
    "        for j in range(i+1, length):\n",
    "            toAdd+=peptide[j]\n",
    "            if(maxSize(toAdd, maxed)):\n",
    "                splits.append(toAdd)\n",
    "    return splits\n",
    "            \n",
    "            \n",
    "    "
   ]
  },
  {
   "cell_type": "code",
   "execution_count": 94,
   "metadata": {},
   "outputs": [],
   "source": [
    "def splitDictPeptide(peptide, maxed):\n",
    "    length = len(peptide)\n",
    "    splits = []\n",
    "    splitRef = []\n",
    "    for i in range(0, length):\n",
    "        character = peptide[i]\n",
    "        \n",
    "        toAdd=\"\"\n",
    "        toAdd+=character\n",
    "        splits.append(toAdd)\n",
    "        ref = []\n",
    "        ref.append(i)\n",
    "        temp = list(ref)\n",
    "        splitRef.append(temp)\n",
    "        \n",
    "        for j in range(i+1, length):\n",
    "            toAdd+=peptide[j]\n",
    "            if(maxSize(toAdd, maxed)):\n",
    "                \n",
    "                splits.append(toAdd)\n",
    "                ref.append(j)\n",
    "                temp = list(ref)\n",
    "                \n",
    "                splitRef.append(temp)\n",
    "                temp=[]\n",
    "      \n",
    "        print(splitRef)\n",
    "        ref = []\n",
    "        splitRef = []\n",
    "        \n",
    "    return splits"
   ]
  },
  {
   "cell_type": "code",
   "execution_count": 78,
   "metadata": {},
   "outputs": [],
   "source": [
    "def combinePeptide(splits, mined, maxed):\n",
    "    combine = []\n",
    "    for i in range(0, len(splits)):\n",
    "        if(minSize(splits[i], mined)):\n",
    "            #Add linear peptide, can include option if necessary\n",
    "            combine.append(splits[i])\n",
    "        toAdd=\"\"\n",
    "        for j in range(i+1, len(splits)):\n",
    "           \n",
    "            toAdd+=splits[i]\n",
    "            toAdd+=splits[j]\n",
    "            if(maxSize(toAdd, maxed) and minSize(toAdd, mined)):\n",
    "                \n",
    "                combine.append(toAdd)\n",
    "            \n",
    "            toAdd = \"\"\n",
    "            toAdd+=splits[j]\n",
    "            toAdd+=splits[i]\n",
    "            if(maxSize(toAdd, maxed) and minSize(toAdd, mined)):\n",
    "                \n",
    "                combine.append(toAdd)\n",
    "        \n",
    "            toAdd=\"\"\n",
    "    return combine\n",
    "     \n",
    "    "
   ]
  },
  {
   "cell_type": "code",
   "execution_count": 79,
   "metadata": {},
   "outputs": [],
   "source": [
    "def maxSize(split, maxed):\n",
    "    if(len(split)>=maxed):\n",
    "        return False\n",
    "    return True"
   ]
  },
  {
   "cell_type": "code",
   "execution_count": 80,
   "metadata": {},
   "outputs": [],
   "source": [
    "def minSize(split, mined):\n",
    "    if(len(split)<mined):\n",
    "        return False\n",
    "    return True"
   ]
  },
  {
   "cell_type": "code",
   "execution_count": 81,
   "metadata": {},
   "outputs": [],
   "source": [
    "def addSequenceList(input_file):\n",
    "    \n",
    "    fasta_sequences = SeqIO.parse(open(input_file),'fasta')\n",
    "    sequenceDictionary = {}\n",
    "    for fasta in fasta_sequences:\n",
    "        name, sequence = fasta.id, fasta.seq.tostring()\n",
    "        sequenceDictionary[name] = sequence\n",
    "    return sequenceDictionary"
   ]
  },
  {
   "cell_type": "code",
   "execution_count": 95,
   "metadata": {},
   "outputs": [
    {
     "name": "stdout",
     "output_type": "stream",
     "text": [
      "[[0], [0, 1], [0, 1, 2], [0, 1, 2, 3], [0, 1, 2, 3, 4]]\n",
      "[[1], [1, 2], [1, 2, 3], [1, 2, 3, 4]]\n",
      "[[2], [2, 3], [2, 3, 4]]\n",
      "[[3], [3, 4]]\n",
      "[[4]]\n"
     ]
    }
   ],
   "source": [
    "maxed = 12\n",
    "mined=0\n",
    "splits = splitDictPeptide(\"AKLjf\", maxed)\n"
   ]
  },
  {
   "cell_type": "code",
   "execution_count": 83,
   "metadata": {},
   "outputs": [
    {
     "name": "stdout",
     "output_type": "stream",
     "text": [
      "['A', 'AK', 'AKL', 'AKLj', 'AKLjf', 'K', 'KL', 'KLj', 'KLjf', 'L', 'Lj', 'Ljf', 'j', 'jf', 'f']\n",
      "15\n"
     ]
    }
   ],
   "source": [
    "print(splits)\n",
    "print(len(splits))"
   ]
  },
  {
   "cell_type": "code",
   "execution_count": null,
   "metadata": {},
   "outputs": [],
   "source": []
  },
  {
   "cell_type": "code",
   "execution_count": 66,
   "metadata": {},
   "outputs": [
    {
     "name": "stdout",
     "output_type": "stream",
     "text": [
      "['A', 'AAK', 'AKA', 'AAKL', 'AKLA', 'AAKLj', 'AKLjA', 'AAKLjf', 'AKLjfA', 'AK', 'KA', 'AKL', 'KLA', 'AKLj', 'KLjA', 'AKLjf', 'KLjfA', 'AL', 'LA', 'ALj', 'LjA', 'ALjf', 'LjfA', 'Aj', 'jA', 'Ajf', 'jfA', 'Af', 'fA', 'AK', 'AKAKL', 'AKLAK', 'AKAKLj', 'AKLjAK', 'AKAKLjf', 'AKLjfAK', 'AKK', 'KAK', 'AKKL', 'KLAK', 'AKKLj', 'KLjAK', 'AKKLjf', 'KLjfAK', 'AKL', 'LAK', 'AKLj', 'LjAK', 'AKLjf', 'LjfAK', 'AKj', 'jAK', 'AKjf', 'jfAK', 'AKf', 'fAK', 'AKL', 'AKLAKLj', 'AKLjAKL', 'AKLAKLjf', 'AKLjfAKL', 'AKLK', 'KAKL', 'AKLKL', 'KLAKL', 'AKLKLj', 'KLjAKL', 'AKLKLjf', 'KLjfAKL', 'AKLL', 'LAKL', 'AKLLj', 'LjAKL', 'AKLLjf', 'LjfAKL', 'AKLj', 'jAKL', 'AKLjf', 'jfAKL', 'AKLf', 'fAKL', 'AKLj', 'AKLjAKLjf', 'AKLjfAKLj', 'AKLjK', 'KAKLj', 'AKLjKL', 'KLAKLj', 'AKLjKLj', 'KLjAKLj', 'AKLjKLjf', 'KLjfAKLj', 'AKLjL', 'LAKLj', 'AKLjLj', 'LjAKLj', 'AKLjLjf', 'LjfAKLj', 'AKLjj', 'jAKLj', 'AKLjjf', 'jfAKLj', 'AKLjf', 'fAKLj', 'AKLjf', 'AKLjfK', 'KAKLjf', 'AKLjfKL', 'KLAKLjf', 'AKLjfKLj', 'KLjAKLjf', 'AKLjfKLjf', 'KLjfAKLjf', 'AKLjfL', 'LAKLjf', 'AKLjfLj', 'LjAKLjf', 'AKLjfLjf', 'LjfAKLjf', 'AKLjfj', 'jAKLjf', 'AKLjfjf', 'jfAKLjf', 'AKLjff', 'fAKLjf', 'K', 'KKL', 'KLK', 'KKLj', 'KLjK', 'KKLjf', 'KLjfK', 'KL', 'LK', 'KLj', 'LjK', 'KLjf', 'LjfK', 'Kj', 'jK', 'Kjf', 'jfK', 'Kf', 'fK', 'KL', 'KLKLj', 'KLjKL', 'KLKLjf', 'KLjfKL', 'KLL', 'LKL', 'KLLj', 'LjKL', 'KLLjf', 'LjfKL', 'KLj', 'jKL', 'KLjf', 'jfKL', 'KLf', 'fKL', 'KLj', 'KLjKLjf', 'KLjfKLj', 'KLjL', 'LKLj', 'KLjLj', 'LjKLj', 'KLjLjf', 'LjfKLj', 'KLjj', 'jKLj', 'KLjjf', 'jfKLj', 'KLjf', 'fKLj', 'KLjf', 'KLjfL', 'LKLjf', 'KLjfLj', 'LjKLjf', 'KLjfLjf', 'LjfKLjf', 'KLjfj', 'jKLjf', 'KLjfjf', 'jfKLjf', 'KLjff', 'fKLjf', 'L', 'LLj', 'LjL', 'LLjf', 'LjfL', 'Lj', 'jL', 'Ljf', 'jfL', 'Lf', 'fL', 'Lj', 'LjLjf', 'LjfLj', 'Ljj', 'jLj', 'Ljjf', 'jfLj', 'Ljf', 'fLj', 'Ljf', 'Ljfj', 'jLjf', 'Ljfjf', 'jfLjf', 'Ljff', 'fLjf', 'j', 'jjf', 'jfj', 'jf', 'fj', 'jf', 'jff', 'fjf', 'f']\n",
      "225\n"
     ]
    }
   ],
   "source": [
    "combine = combinePeptide(splits, mined, maxed)\n",
    "print(combine)\n",
    "print(len(combine))"
   ]
  },
  {
   "cell_type": "code",
   "execution_count": 40,
   "metadata": {},
   "outputs": [
    {
     "name": "stderr",
     "output_type": "stream",
     "text": [
      "C:\\Users\\Arpit\\Anaconda3\\lib\\site-packages\\Bio\\Seq.py:354: BiopythonDeprecationWarning: This method is obsolete; please use str(my_seq) instead of my_seq.tostring().\n",
      "  BiopythonDeprecationWarning)\n"
     ]
    },
    {
     "name": "stdout",
     "output_type": "stream",
     "text": [
      "2662\n",
      "3916942\n"
     ]
    }
   ],
   "source": [
    "sequenceDictionary = addSequenceList(\"Example.fasta\")\n",
    "for key, value in sequenceDictionary.items():\n",
    "    \n",
    "    splits = splitPeptide(value, size)\n",
    "    combine = combinePeptide(splits, size)\n",
    "    print(len(splits))\n",
    "    print(len(combine))\n",
    "    \n",
    "    break;"
   ]
  },
  {
   "cell_type": "code",
   "execution_count": null,
   "metadata": {},
   "outputs": [],
   "source": []
  }
 ],
 "metadata": {
  "kernelspec": {
   "display_name": "Python 3",
   "language": "python",
   "name": "python3"
  },
  "language_info": {
   "codemirror_mode": {
    "name": "ipython",
    "version": 3
   },
   "file_extension": ".py",
   "mimetype": "text/x-python",
   "name": "python",
   "nbconvert_exporter": "python",
   "pygments_lexer": "ipython3",
   "version": "3.6.4"
  }
 },
 "nbformat": 4,
 "nbformat_minor": 2
}
