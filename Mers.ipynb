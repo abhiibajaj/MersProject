{
 "cells": [
  {
   "cell_type": "code",
   "execution_count": 21,
   "metadata": {},
   "outputs": [],
   "source": [
    "from Bio import SeqIO"
   ]
  },
  {
   "cell_type": "code",
   "execution_count": 22,
   "metadata": {},
   "outputs": [],
   "source": [
    "def splitPeptide(peptide, size):\n",
    "    length = len(peptide)\n",
    "    splits = []\n",
    "    \n",
    "    for i in range(0, length):\n",
    "        character = peptide[i]\n",
    "        toAdd=\"\"\n",
    "        toAdd+=character\n",
    "        splits.append(toAdd)\n",
    "        for j in range(i+1, length):\n",
    "            toAdd+=peptide[j]\n",
    "            if(splitSize(toAdd, size-1)):\n",
    "                splits.append(toAdd)\n",
    "    return splits\n",
    "            \n",
    "            \n",
    "    "
   ]
  },
  {
   "cell_type": "code",
   "execution_count": 23,
   "metadata": {},
   "outputs": [],
   "source": [
    "def combinePeptide(splits, size):\n",
    "    combine = []\n",
    "    for i in range(0, len(splits)):\n",
    "        toAdd=\"\"\n",
    "        for j in range(i+1, len(splits)):\n",
    "            toAdd+=splits[i]\n",
    "            toAdd+=splits[j]\n",
    "            if(splitSize(toAdd, size)):\n",
    "                \n",
    "                combine.append(toAdd)\n",
    "            \n",
    "            toAdd = \"\"\n",
    "            toAdd+=splits[j]\n",
    "            toAdd+=splits[i]\n",
    "            if(splitSize(toAdd, size)):\n",
    "                \n",
    "                combine.append(toAdd)\n",
    "        \n",
    "            toAdd=\"\"\n",
    "    return combine\n",
    "     \n",
    "    "
   ]
  },
  {
   "cell_type": "code",
   "execution_count": 24,
   "metadata": {},
   "outputs": [],
   "source": [
    "def splitSize(split, size):\n",
    "    if(len(split)>size):\n",
    "        return False\n",
    "    return True"
   ]
  },
  {
   "cell_type": "code",
   "execution_count": 25,
   "metadata": {},
   "outputs": [],
   "source": [
    "def addSequenceList(input_file):\n",
    "    \n",
    "    fasta_sequences = SeqIO.parse(open(input_file),'fasta')\n",
    "    sequenceDictionary = {}\n",
    "    for fasta in fasta_sequences:\n",
    "        name, sequence = fasta.id, fasta.seq.tostring()\n",
    "        sequenceDictionary[name] = sequence\n",
    "    return sequenceDictionary"
   ]
  },
  {
   "cell_type": "code",
   "execution_count": 26,
   "metadata": {},
   "outputs": [],
   "source": [
    "size = 12\n",
    "splits = splitPeptide(\"AKLjf\", size)\n"
   ]
  },
  {
   "cell_type": "code",
   "execution_count": 27,
   "metadata": {},
   "outputs": [
    {
     "name": "stdout",
     "output_type": "stream",
     "text": [
      "748\n"
     ]
    }
   ],
   "source": [
    "print(splits)\n",
    "print(len(splits))"
   ]
  },
  {
   "cell_type": "code",
   "execution_count": 28,
   "metadata": {},
   "outputs": [
    {
     "name": "stdout",
     "output_type": "stream",
     "text": [
      "319666\n"
     ]
    }
   ],
   "source": [
    "combine = combinePeptide(splits, size)\n",
    "print(combine)\n",
    "print(len(combine))"
   ]
  },
  {
   "cell_type": "code",
   "execution_count": 32,
   "metadata": {},
   "outputs": [
    {
     "name": "stderr",
     "output_type": "stream",
     "text": [
      "C:\\Users\\Arpit\\Anaconda3\\lib\\site-packages\\Bio\\Seq.py:354: BiopythonDeprecationWarning: This method is obsolete; please use str(my_seq) instead of my_seq.tostring().\n",
      "  BiopythonDeprecationWarning)\n"
     ]
    },
    {
     "name": "stdout",
     "output_type": "stream",
     "text": [
      "2662\n",
      "3916942\n"
     ]
    }
   ],
   "source": [
    "sequenceDictionary = addSequenceList(\"Example.fasta\")\n",
    "for key, value in sequenceDictionary.items():\n",
    "    \n",
    "    splits = splitPeptide(value, size)\n",
    "    combine = combinePeptide(splits, size)\n",
    "    print(len(splits))\n",
    "    print(len(combine))\n",
    "    break;"
   ]
  },
  {
   "cell_type": "code",
   "execution_count": null,
   "metadata": {},
   "outputs": [],
   "source": []
  }
 ],
 "metadata": {
  "kernelspec": {
   "display_name": "Python 3",
   "language": "python",
   "name": "python3"
  },
  "language_info": {
   "codemirror_mode": {
    "name": "ipython",
    "version": 3
   },
   "file_extension": ".py",
   "mimetype": "text/x-python",
   "name": "python",
   "nbconvert_exporter": "python",
   "pygments_lexer": "ipython3",
   "version": "3.6.4"
  }
 },
 "nbformat": 4,
 "nbformat_minor": 2
}
